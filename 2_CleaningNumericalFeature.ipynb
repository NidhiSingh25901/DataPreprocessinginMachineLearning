{
  "nbformat": 4,
  "nbformat_minor": 0,
  "metadata": {
    "colab": {
      "provenance": [],
      "authorship_tag": "ABX9TyOr92ag6OIaslnjbOn8yvwT",
      "include_colab_link": true
    },
    "kernelspec": {
      "name": "python3",
      "display_name": "Python 3"
    },
    "language_info": {
      "name": "python"
    }
  },
  "cells": [
    {
      "cell_type": "markdown",
      "metadata": {
        "id": "view-in-github",
        "colab_type": "text"
      },
      "source": [
        "<a href=\"https://colab.research.google.com/github/NidhiSingh25901/DataPreprocessinginMachineLearning/blob/main/2_CleaningNumericalFeature.ipynb\" target=\"_parent\"><img src=\"https://colab.research.google.com/assets/colab-badge.svg\" alt=\"Open In Colab\"/></a>"
      ]
    },
    {
      "cell_type": "code",
      "execution_count": 2,
      "metadata": {
        "id": "0vx7JYaVwptm"
      },
      "outputs": [],
      "source": [
        "import pandas as pd\n",
        "from sklearn.impute import SimpleImputer\n",
        "from sklearn.preprocessing import StandardScaler"
      ]
    },
    {
      "cell_type": "code",
      "source": [
        "df = pd.DataFrame(\n",
        "    {'age': [25,69,None,49,59],\n",
        "    'salary': [40000,50000,60000,None,15000]}\n",
        ")"
      ],
      "metadata": {
        "id": "SzcB_yNmw-Zp"
      },
      "execution_count": 4,
      "outputs": []
    },
    {
      "cell_type": "code",
      "source": [
        "imputer = SimpleImputer(strategy= \"median\")\n",
        "df[['age', 'salary']] = imputer.fit_transform(df[['age', 'salary']])"
      ],
      "metadata": {
        "id": "WoHoMGb6xT4d"
      },
      "execution_count": 7,
      "outputs": []
    },
    {
      "cell_type": "code",
      "source": [
        "upper_limit =   df['age'].quantile(0.99)\n",
        "df['age'] = df['age'].clip(upper=upper_limit)"
      ],
      "metadata": {
        "id": "pAJMrUnNxnwi"
      },
      "execution_count": 9,
      "outputs": []
    },
    {
      "cell_type": "code",
      "source": [
        "print(df)"
      ],
      "metadata": {
        "colab": {
          "base_uri": "https://localhost:8080/"
        },
        "id": "9eJ7RaIIx8RK",
        "outputId": "41be5952-284c-487d-b675-e93ef57b2ace"
      },
      "execution_count": 10,
      "outputs": [
        {
          "output_type": "stream",
          "name": "stdout",
          "text": [
            "    age   salary\n",
            "0  25.0  40000.0\n",
            "1  68.6  50000.0\n",
            "2  54.0  60000.0\n",
            "3  49.0  45000.0\n",
            "4  59.0  15000.0\n"
          ]
        }
      ]
    },
    {
      "cell_type": "code",
      "source": [],
      "metadata": {
        "id": "28kEfBoZyGQA"
      },
      "execution_count": null,
      "outputs": []
    }
  ]
}