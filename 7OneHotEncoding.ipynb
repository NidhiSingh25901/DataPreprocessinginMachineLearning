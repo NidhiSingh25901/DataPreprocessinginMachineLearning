{
  "nbformat": 4,
  "nbformat_minor": 0,
  "metadata": {
    "colab": {
      "provenance": [],
      "authorship_tag": "ABX9TyORR/vXT0eCnEpaddx2zVD+",
      "include_colab_link": true
    },
    "kernelspec": {
      "name": "python3",
      "display_name": "Python 3"
    },
    "language_info": {
      "name": "python"
    }
  },
  "cells": [
    {
      "cell_type": "markdown",
      "metadata": {
        "id": "view-in-github",
        "colab_type": "text"
      },
      "source": [
        "<a href=\"https://colab.research.google.com/github/NidhiSingh25901/DataPreprocessinginMachineLearning/blob/main/7OneHotEncoding.ipynb\" target=\"_parent\"><img src=\"https://colab.research.google.com/assets/colab-badge.svg\" alt=\"Open In Colab\"/></a>"
      ]
    },
    {
      "cell_type": "code",
      "source": [
        "from sklearn.preprocessing import OrdinalEncoder\n",
        "import pandas as pd"
      ],
      "metadata": {
        "id": "pCISP9SwE5TH"
      },
      "execution_count": 1,
      "outputs": []
    },
    {
      "cell_type": "code",
      "source": [
        "df = pd.DataFrame({\n",
        "    'Name': ['Alice','Bob','Charlie','Diana','Eve'],\n",
        "    'Gender': ['Female','Male','Male','Female','Female'],\n",
        "    'Size': ['Small','Medium','Large','Medium','Small'],\n",
        "    'City': ['New York','Los Angeles','New York','San Francisco','Los Angeles']\n",
        "})\n",
        "\n",
        "df = pd.get_dummies(df, columns=['Gender','City'], drop_first=True)\n"
      ],
      "metadata": {
        "id": "DHvVjp4yE9X-"
      },
      "execution_count": 2,
      "outputs": []
    },
    {
      "cell_type": "code",
      "source": [
        "print(df)"
      ],
      "metadata": {
        "colab": {
          "base_uri": "https://localhost:8080/"
        },
        "id": "gPVdcEdRFCD3",
        "outputId": "5d27c98e-958b-4f62-fbb8-7855e1dfe324"
      },
      "execution_count": 3,
      "outputs": [
        {
          "output_type": "stream",
          "name": "stdout",
          "text": [
            "      Name    Size  Gender_Male  City_New York  City_San Francisco\n",
            "0    Alice   Small        False           True               False\n",
            "1      Bob  Medium         True          False               False\n",
            "2  Charlie   Large         True           True               False\n",
            "3    Diana  Medium        False          False                True\n",
            "4      Eve   Small        False          False               False\n"
          ]
        }
      ]
    },
    {
      "cell_type": "code",
      "source": [],
      "metadata": {
        "id": "4sdPVwThFDV2"
      },
      "execution_count": null,
      "outputs": []
    }
  ]
}