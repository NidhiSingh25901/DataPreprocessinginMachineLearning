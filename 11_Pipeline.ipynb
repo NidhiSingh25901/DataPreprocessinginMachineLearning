{
  "nbformat": 4,
  "nbformat_minor": 0,
  "metadata": {
    "colab": {
      "provenance": [],
      "authorship_tag": "ABX9TyOZ54FliuA8QRWTP0fsaW7Q",
      "include_colab_link": true
    },
    "kernelspec": {
      "name": "python3",
      "display_name": "Python 3"
    },
    "language_info": {
      "name": "python"
    }
  },
  "cells": [
    {
      "cell_type": "markdown",
      "metadata": {
        "id": "view-in-github",
        "colab_type": "text"
      },
      "source": [
        "<a href=\"https://colab.research.google.com/github/NidhiSingh25901/DataPreprocessinginMachineLearning/blob/main/11_Pipeline.ipynb\" target=\"_parent\"><img src=\"https://colab.research.google.com/assets/colab-badge.svg\" alt=\"Open In Colab\"/></a>"
      ]
    },
    {
      "cell_type": "code",
      "execution_count": 1,
      "metadata": {
        "id": "aLV0UOoXfYU6"
      },
      "outputs": [],
      "source": [
        "import pandas as pd\n",
        "from sklearn.pipeline import Pipeline\n",
        "from sklearn.compose import ColumnTransformer\n",
        "from sklearn.preprocessing import StandardScaler, OneHotEncoder\n",
        "from sklearn.impute import SimpleImputer\n",
        "from sklearn.linear_model import LogisticRegression\n",
        "from sklearn.model_selection import train_test_split"
      ]
    },
    {
      "cell_type": "code",
      "source": [
        "# Sample dataset\n",
        "df = pd.DataFrame({\n",
        "    'Age': [25, 30, 35, None],\n",
        "    'Salary': [50000, 60000, 70000, 80000],\n",
        "    'Gender': ['Male','Female','Female','Male'],\n",
        "    'Target': [0,1,0,1]\n",
        "})"
      ],
      "metadata": {
        "id": "Al16cDDbfg58"
      },
      "execution_count": 2,
      "outputs": []
    },
    {
      "cell_type": "code",
      "source": [
        "# Separate features and target\n",
        "X = df.drop('Target', axis=1)\n",
        "y = df['Target']"
      ],
      "metadata": {
        "id": "9aCzZEtQfsbT"
      },
      "execution_count": 3,
      "outputs": []
    },
    {
      "cell_type": "code",
      "source": [
        "# Define column transformer\n",
        "preprocessor = ColumnTransformer(\n",
        "    transformers=[\n",
        "        ('num', Pipeline([\n",
        "            ('imputer', SimpleImputer(strategy='mean')),\n",
        "            ('scaler', StandardScaler())\n",
        "        ]), ['Age','Salary']),\n",
        "        ('cat', OneHotEncoder(), ['Gender'])\n",
        "    ]\n",
        ")"
      ],
      "metadata": {
        "id": "uwKi7e6SfxQ0"
      },
      "execution_count": 4,
      "outputs": []
    },
    {
      "cell_type": "code",
      "source": [
        "# Create full pipeline\n",
        "pipe = Pipeline(steps=[\n",
        "    ('preprocess', preprocessor),\n",
        "    ('model', LogisticRegression())\n",
        "])"
      ],
      "metadata": {
        "id": "qDvxqLshfzIy"
      },
      "execution_count": 5,
      "outputs": []
    },
    {
      "cell_type": "code",
      "source": [
        "# Train-test split\n",
        "X_train, X_test, y_train, y_test = train_test_split(X, y, test_size=0.2, random_state=42)\n",
        "\n",
        "# Fit pipeline\n",
        "pipe.fit(X_train, y_train)\n",
        "\n",
        "# Predict\n",
        "y_pred = pipe.predict(X_test)\n",
        "print(y_pred)"
      ],
      "metadata": {
        "colab": {
          "base_uri": "https://localhost:8080/"
        },
        "id": "CKBVI9V5f1J8",
        "outputId": "ab52dcf6-af2d-422d-c84c-6459568a9296"
      },
      "execution_count": 6,
      "outputs": [
        {
          "output_type": "stream",
          "name": "stdout",
          "text": [
            "[0]\n"
          ]
        }
      ]
    }
  ]
}