{
  "nbformat": 4,
  "nbformat_minor": 0,
  "metadata": {
    "colab": {
      "provenance": [],
      "authorship_tag": "ABX9TyOxln0kvppXXBPKOsXCEn01",
      "include_colab_link": true
    },
    "kernelspec": {
      "name": "python3",
      "display_name": "Python 3"
    },
    "language_info": {
      "name": "python"
    }
  },
  "cells": [
    {
      "cell_type": "markdown",
      "metadata": {
        "id": "view-in-github",
        "colab_type": "text"
      },
      "source": [
        "<a href=\"https://colab.research.google.com/github/NidhiSingh25901/DataPreprocessinginMachineLearning/blob/main/15CategoricalFeatureNumericalTarget.ipynb\" target=\"_parent\"><img src=\"https://colab.research.google.com/assets/colab-badge.svg\" alt=\"Open In Colab\"/></a>"
      ]
    },
    {
      "cell_type": "code",
      "execution_count": 1,
      "metadata": {
        "id": "aGQFsLpwCipJ"
      },
      "outputs": [],
      "source": [
        "import pandas as pd"
      ]
    },
    {
      "cell_type": "code",
      "source": [
        "from sklearn.feature_selection import SelectKBest, mutual_info_regression\n",
        "from sklearn.preprocessing import OrdinalEncoder"
      ],
      "metadata": {
        "id": "goDAygTXClmS"
      },
      "execution_count": 5,
      "outputs": []
    },
    {
      "cell_type": "code",
      "source": [
        "df = pd.read_csv('/content/sample_data/california_housing_train.csv')"
      ],
      "metadata": {
        "id": "YY5f74zRCpb7"
      },
      "execution_count": 4,
      "outputs": []
    },
    {
      "cell_type": "code",
      "source": [
        "x= df.iloc[:,0:10]"
      ],
      "metadata": {
        "id": "ixxQwLbDCxtK"
      },
      "execution_count": 6,
      "outputs": []
    },
    {
      "cell_type": "code",
      "source": [
        "y =df['median_income']"
      ],
      "metadata": {
        "id": "bYSqZ5jGDAZ5"
      },
      "execution_count": 8,
      "outputs": []
    },
    {
      "cell_type": "code",
      "source": [
        "OrdinalEncoder().fit_transform(x)"
      ],
      "metadata": {
        "colab": {
          "base_uri": "https://localhost:8080/"
        },
        "id": "NIT9GNH0DEUn",
        "outputId": "5be539cd-b13b-42f9-f9a7-86c8f60c0166"
      },
      "execution_count": 9,
      "outputs": [
        {
          "output_type": "execute_result",
          "data": {
            "text/plain": [
              "array([[8.260e+02, 1.650e+02, 1.400e+01, ..., 4.710e+02, 5.390e+02,\n",
              "        2.460e+02],\n",
              "       [8.250e+02, 1.860e+02, 1.800e+01, ..., 4.620e+02, 1.106e+03,\n",
              "        3.760e+02],\n",
              "       [8.240e+02, 1.150e+02, 1.600e+01, ..., 1.160e+02, 7.810e+02,\n",
              "        4.320e+02],\n",
              "       ...,\n",
              "       [1.000e+00, 8.360e+02, 1.600e+01, ..., 4.550e+02, 3.901e+03,\n",
              "        6.110e+02],\n",
              "       [1.000e+00, 8.330e+02, 1.800e+01, ..., 4.770e+02, 1.404e+03,\n",
              "        4.330e+02],\n",
              "       [0.000e+00, 7.550e+02, 5.100e+01, ..., 2.690e+02, 3.850e+03,\n",
              "        5.210e+02]])"
            ]
          },
          "metadata": {},
          "execution_count": 9
        }
      ]
    },
    {
      "cell_type": "code",
      "source": [
        "selector = SelectKBest(lambda x,y: mutual_info_regression(x,y, discrete_features=True), k=5)"
      ],
      "metadata": {
        "id": "_4GO4T9tDN-U"
      },
      "execution_count": 11,
      "outputs": []
    },
    {
      "cell_type": "code",
      "source": [
        "selector.fit_transform(x,y)"
      ],
      "metadata": {
        "colab": {
          "base_uri": "https://localhost:8080/"
        },
        "id": "xfUNYyZTDWHe",
        "outputId": "1e0751a3-3f82-41b2-c718-7a028eab6d4b"
      },
      "execution_count": 12,
      "outputs": [
        {
          "output_type": "execute_result",
          "data": {
            "text/plain": [
              "array([[-1.1431e+02,  3.4190e+01,  5.6120e+03,  1.4936e+00,  6.6900e+04],\n",
              "       [-1.1447e+02,  3.4400e+01,  7.6500e+03,  1.8200e+00,  8.0100e+04],\n",
              "       [-1.1456e+02,  3.3690e+01,  7.2000e+02,  1.6509e+00,  8.5700e+04],\n",
              "       ...,\n",
              "       [-1.2430e+02,  4.1840e+01,  2.6770e+03,  3.0313e+00,  1.0360e+05],\n",
              "       [-1.2430e+02,  4.1800e+01,  2.6720e+03,  1.9797e+00,  8.5800e+04],\n",
              "       [-1.2435e+02,  4.0540e+01,  1.8200e+03,  3.0147e+00,  9.4600e+04]])"
            ]
          },
          "metadata": {},
          "execution_count": 12
        }
      ]
    },
    {
      "cell_type": "code",
      "source": [],
      "metadata": {
        "id": "uKmwF6R-DvYB"
      },
      "execution_count": null,
      "outputs": []
    }
  ]
}