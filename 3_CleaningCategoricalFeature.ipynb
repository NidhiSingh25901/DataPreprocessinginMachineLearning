{
  "nbformat": 4,
  "nbformat_minor": 0,
  "metadata": {
    "colab": {
      "provenance": [],
      "authorship_tag": "ABX9TyOAFdECunn/7blY/r6Klyuj",
      "include_colab_link": true
    },
    "kernelspec": {
      "name": "python3",
      "display_name": "Python 3"
    },
    "language_info": {
      "name": "python"
    }
  },
  "cells": [
    {
      "cell_type": "markdown",
      "metadata": {
        "id": "view-in-github",
        "colab_type": "text"
      },
      "source": [
        "<a href=\"https://colab.research.google.com/github/NidhiSingh25901/DataPreprocessinginMachineLearning/blob/main/3_CleaningCategoricalFeature.ipynb\" target=\"_parent\"><img src=\"https://colab.research.google.com/assets/colab-badge.svg\" alt=\"Open In Colab\"/></a>"
      ]
    },
    {
      "cell_type": "code",
      "execution_count": 39,
      "metadata": {
        "id": "0vx7JYaVwptm"
      },
      "outputs": [],
      "source": [
        "import pandas as pd\n",
        "from sklearn.impute import SimpleImputer\n",
        "from sklearn.preprocessing import StandardScaler"
      ]
    },
    {
      "cell_type": "code",
      "source": [
        "df = pd.DataFrame(\n",
        "    {'age': [25,69,None,49,59],\n",
        "    'salary': [40000,50000,60000,None,15000]}\n",
        ")"
      ],
      "metadata": {
        "id": "SzcB_yNmw-Zp"
      },
      "execution_count": 40,
      "outputs": []
    },
    {
      "cell_type": "code",
      "source": [
        "imputer = SimpleImputer(strategy= \"median\")\n",
        "df[['age', 'salary']] = imputer.fit_transform(df[['age', 'salary']])"
      ],
      "metadata": {
        "id": "WoHoMGb6xT4d"
      },
      "execution_count": 41,
      "outputs": []
    },
    {
      "cell_type": "code",
      "source": [
        "upper_limit =   df['age'].quantile(0.99)\n",
        "df['age'] = df['age'].clip(upper=upper_limit)"
      ],
      "metadata": {
        "id": "pAJMrUnNxnwi"
      },
      "execution_count": 42,
      "outputs": []
    },
    {
      "cell_type": "code",
      "source": [
        "print(df)"
      ],
      "metadata": {
        "colab": {
          "base_uri": "https://localhost:8080/"
        },
        "id": "9eJ7RaIIx8RK",
        "outputId": "93b56d2b-a77f-4b2b-f7eb-a578b0f99c7a"
      },
      "execution_count": 43,
      "outputs": [
        {
          "output_type": "stream",
          "name": "stdout",
          "text": [
            "    age   salary\n",
            "0  25.0  40000.0\n",
            "1  68.6  50000.0\n",
            "2  54.0  60000.0\n",
            "3  49.0  45000.0\n",
            "4  59.0  15000.0\n"
          ]
        }
      ]
    },
    {
      "cell_type": "code",
      "source": [
        "import pandas as pd\n",
        "from sklearn.preprocessing import LabelEncoder"
      ],
      "metadata": {
        "id": "28kEfBoZyGQA"
      },
      "execution_count": 44,
      "outputs": []
    },
    {
      "cell_type": "code",
      "source": [
        "df = pd.DataFrame(\n",
        "    {\n",
        "        'gender': ['male', 'female', 'female',None, 'male', 'female'],\n",
        "        'size': ['small', 'medium', None, 'medium', 'small', 'large']\n",
        "    }\n",
        ")"
      ],
      "metadata": {
        "id": "QihRRTla4TQY"
      },
      "execution_count": 45,
      "outputs": []
    },
    {
      "cell_type": "code",
      "source": [
        "df['gender']= df['gender'].fillna('unknown')\n",
        "df['size']=df['size'].fillna('unknown')"
      ],
      "metadata": {
        "id": "vEGhWZVP4mdr"
      },
      "execution_count": 46,
      "outputs": []
    },
    {
      "cell_type": "code",
      "source": [
        "df['gender'] = df['gender'].str.lower().str.strip()"
      ],
      "metadata": {
        "id": "kygRMnT-41SY"
      },
      "execution_count": 47,
      "outputs": []
    },
    {
      "cell_type": "code",
      "source": [
        "size_order = {'small': 0, 'medium': 1, 'large': 2, 'unknown': -1}\n",
        "df['size'] = df['size'].astype(str).str.lower().map(size_order)"
      ],
      "metadata": {
        "id": "Bxa1kZNG5Nwo"
      },
      "execution_count": 48,
      "outputs": []
    },
    {
      "cell_type": "code",
      "source": [
        "df = pd.get_dummies(df, columns=['gender'], drop_first=True)\n"
      ],
      "metadata": {
        "id": "VO8O4vs35YvL"
      },
      "execution_count": 49,
      "outputs": []
    },
    {
      "cell_type": "markdown",
      "metadata": {
        "id": "53c9b97e"
      },
      "source": [
        "The error occurred because the `gender` column was dropped before the `pd.get_dummies` function was called. I will move the `pd.get_dummies` call to be executed after the cell that processes the `gender` column."
      ]
    },
    {
      "cell_type": "code",
      "source": [
        "print(df)"
      ],
      "metadata": {
        "colab": {
          "base_uri": "https://localhost:8080/"
        },
        "id": "dn2WDORF5cW-",
        "outputId": "6fb143d8-c18b-4387-a910-d94030a9c278"
      },
      "execution_count": 50,
      "outputs": [
        {
          "output_type": "stream",
          "name": "stdout",
          "text": [
            "   size  gender_male  gender_unknown\n",
            "0     0         True           False\n",
            "1     1        False           False\n",
            "2    -1        False           False\n",
            "3     1        False            True\n",
            "4     0         True           False\n",
            "5     2        False           False\n"
          ]
        }
      ]
    },
    {
      "cell_type": "code",
      "source": [],
      "metadata": {
        "id": "zoRAbU3K5s3e"
      },
      "execution_count": null,
      "outputs": []
    }
  ]
}