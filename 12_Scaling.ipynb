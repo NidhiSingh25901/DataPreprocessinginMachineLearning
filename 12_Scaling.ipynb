{
  "nbformat": 4,
  "nbformat_minor": 0,
  "metadata": {
    "colab": {
      "provenance": [],
      "authorship_tag": "ABX9TyPlIZ+rCb/U/EBX1oEIBV4M",
      "include_colab_link": true
    },
    "kernelspec": {
      "name": "python3",
      "display_name": "Python 3"
    },
    "language_info": {
      "name": "python"
    }
  },
  "cells": [
    {
      "cell_type": "markdown",
      "metadata": {
        "id": "view-in-github",
        "colab_type": "text"
      },
      "source": [
        "<a href=\"https://colab.research.google.com/github/NidhiSingh25901/DataPreprocessinginMachineLearning/blob/main/12_Scaling.ipynb\" target=\"_parent\"><img src=\"https://colab.research.google.com/assets/colab-badge.svg\" alt=\"Open In Colab\"/></a>"
      ]
    },
    {
      "cell_type": "code",
      "execution_count": 1,
      "metadata": {
        "id": "FkNfBnxHjf-g"
      },
      "outputs": [],
      "source": [
        "import pandas as pd\n",
        "from sklearn.preprocessing import MinMaxScaler\n",
        "from sklearn.preprocessing import StandardScaler\n",
        "from sklearn.preprocessing import RobustScaler"
      ]
    },
    {
      "cell_type": "code",
      "source": [
        "df = pd.DataFrame({\n",
        "    'Age' : [20,30,40,50,60,70],\n",
        "    'Salary' : [20000,30000,40000,50000,60000,70000]\n",
        "})"
      ],
      "metadata": {
        "id": "Ykp2NOmykFZc"
      },
      "execution_count": 2,
      "outputs": []
    },
    {
      "cell_type": "code",
      "source": [
        "scaler = MinMaxScaler()"
      ],
      "metadata": {
        "id": "XrWPkX15kQ60"
      },
      "execution_count": 3,
      "outputs": []
    },
    {
      "cell_type": "code",
      "source": [
        "scaled_data = scaler.fit_transform(df[['Age','Salary']])"
      ],
      "metadata": {
        "id": "_j44MZZdkT8g"
      },
      "execution_count": 5,
      "outputs": []
    },
    {
      "cell_type": "code",
      "source": [
        "scaled_data"
      ],
      "metadata": {
        "colab": {
          "base_uri": "https://localhost:8080/"
        },
        "id": "NAR1yat2khNU",
        "outputId": "dc7b9607-c1a5-4cdf-f2a0-b14a054197fa"
      },
      "execution_count": 6,
      "outputs": [
        {
          "output_type": "execute_result",
          "data": {
            "text/plain": [
              "array([[0. , 0. ],\n",
              "       [0.2, 0.2],\n",
              "       [0.4, 0.4],\n",
              "       [0.6, 0.6],\n",
              "       [0.8, 0.8],\n",
              "       [1. , 1. ]])"
            ]
          },
          "metadata": {},
          "execution_count": 6
        }
      ]
    },
    {
      "cell_type": "code",
      "source": [
        "scaler = StandardScaler()"
      ],
      "metadata": {
        "id": "hQd5thnSkh-f"
      },
      "execution_count": 7,
      "outputs": []
    },
    {
      "cell_type": "code",
      "source": [
        "scaled_data = scaler.fit_transform(df[['Age','Salary']])"
      ],
      "metadata": {
        "id": "VrzjPTObkl7L"
      },
      "execution_count": 8,
      "outputs": []
    },
    {
      "cell_type": "code",
      "source": [
        "scaled_data"
      ],
      "metadata": {
        "colab": {
          "base_uri": "https://localhost:8080/"
        },
        "id": "AXafqBkbksrx",
        "outputId": "9de67077-4d31-4e7d-b4da-d447aa224cd7"
      },
      "execution_count": 9,
      "outputs": [
        {
          "output_type": "execute_result",
          "data": {
            "text/plain": [
              "array([[-1.46385011, -1.46385011],\n",
              "       [-0.87831007, -0.87831007],\n",
              "       [-0.29277002, -0.29277002],\n",
              "       [ 0.29277002,  0.29277002],\n",
              "       [ 0.87831007,  0.87831007],\n",
              "       [ 1.46385011,  1.46385011]])"
            ]
          },
          "metadata": {},
          "execution_count": 9
        }
      ]
    },
    {
      "cell_type": "code",
      "source": [
        "scaler = RobustScaler()"
      ],
      "metadata": {
        "id": "vhUiPzHDktq8"
      },
      "execution_count": 10,
      "outputs": []
    },
    {
      "cell_type": "code",
      "source": [
        "scaled_data = scaler.fit_transform(df[['Age','Salary']])"
      ],
      "metadata": {
        "id": "4vhkbXIGkxpO"
      },
      "execution_count": 11,
      "outputs": []
    },
    {
      "cell_type": "code",
      "source": [
        "scaled_data"
      ],
      "metadata": {
        "colab": {
          "base_uri": "https://localhost:8080/"
        },
        "id": "jckq6Tq4k4uL",
        "outputId": "07856ec1-26f8-4e55-c235-7f868084d981"
      },
      "execution_count": 12,
      "outputs": [
        {
          "output_type": "execute_result",
          "data": {
            "text/plain": [
              "array([[-1. , -1. ],\n",
              "       [-0.6, -0.6],\n",
              "       [-0.2, -0.2],\n",
              "       [ 0.2,  0.2],\n",
              "       [ 0.6,  0.6],\n",
              "       [ 1. ,  1. ]])"
            ]
          },
          "metadata": {},
          "execution_count": 12
        }
      ]
    },
    {
      "cell_type": "code",
      "source": [],
      "metadata": {
        "id": "jBreF_zUk6f5"
      },
      "execution_count": null,
      "outputs": []
    }
  ]
}