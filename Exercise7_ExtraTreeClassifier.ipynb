{
  "nbformat": 4,
  "nbformat_minor": 0,
  "metadata": {
    "colab": {
      "provenance": [],
      "authorship_tag": "ABX9TyO+h+TgNIBcqG8HdnLZ9rlc",
      "include_colab_link": true
    },
    "kernelspec": {
      "name": "python3",
      "display_name": "Python 3"
    },
    "language_info": {
      "name": "python"
    }
  },
  "cells": [
    {
      "cell_type": "markdown",
      "metadata": {
        "id": "view-in-github",
        "colab_type": "text"
      },
      "source": [
        "<a href=\"https://colab.research.google.com/github/NidhiSingh25901/DataPreprocessinginMachineLearning/blob/main/Exercise7_ExtraTreeClassifier.ipynb\" target=\"_parent\"><img src=\"https://colab.research.google.com/assets/colab-badge.svg\" alt=\"Open In Colab\"/></a>"
      ]
    },
    {
      "cell_type": "code",
      "execution_count": null,
      "metadata": {
        "id": "xwNGe3IctFwr"
      },
      "outputs": [],
      "source": [
        "import pandas as pd\n",
        "from sklearn.ensemble import ExtraTreesClassifier\n",
        "from sklearn.preprocessing import LabelEncoder\n",
        "\n",
        "# Sample data\n",
        "data = {\n",
        "    'Age': [25, 30, 22, 35],\n",
        "    'Gender': ['Male', 'Female', 'Female', 'Male'],\n",
        "    'Income': [50000, 60000, 45000, 80000],\n",
        "    'Buy': ['Yes', 'No', 'Yes', 'No']\n",
        "}\n",
        "\n",
        "df = pd.DataFrame(data)\n",
        "\n",
        "# Encode categorical variables\n",
        "df['Gender'] = LabelEncoder().fit_transform(df['Gender'])  # Male=1, Female=0\n",
        "df['Buy'] = LabelEncoder().fit_transform(df['Buy'])        # Yes=1, No=0\n",
        "\n",
        "# Features and target\n",
        "X = df[['Age', 'Gender', 'Income']]\n",
        "y = df['Buy']\n",
        "\n",
        "# Train ExtraTreesClassifier\n",
        "etc = ExtraTreesClassifier(n_estimators=100, random_state=42)\n",
        "etc.fit(X, y)\n",
        "\n",
        "# Predict for new input\n",
        "new_data = [[28, 0, 55000]]  # Female, 28 years, $55k income\n",
        "prediction = etc.predict(new_data)\n",
        "\n",
        "print(\"Prediction:\", \"Yes\" if prediction[0] == 1 else \"No\")\n"
      ]
    },
    {
      "cell_type": "code",
      "source": [],
      "metadata": {
        "id": "6eYpR1_QtGqB"
      },
      "execution_count": null,
      "outputs": []
    }
  ]
}