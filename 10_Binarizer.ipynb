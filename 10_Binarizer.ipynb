{
  "nbformat": 4,
  "nbformat_minor": 0,
  "metadata": {
    "colab": {
      "provenance": [],
      "authorship_tag": "ABX9TyMj9oY0uS6KP7lGkRfxceuJ",
      "include_colab_link": true
    },
    "kernelspec": {
      "name": "python3",
      "display_name": "Python 3"
    },
    "language_info": {
      "name": "python"
    }
  },
  "cells": [
    {
      "cell_type": "markdown",
      "metadata": {
        "id": "view-in-github",
        "colab_type": "text"
      },
      "source": [
        "<a href=\"https://colab.research.google.com/github/NidhiSingh25901/DataPreprocessinginMachineLearning/blob/main/10_Binarizer.ipynb\" target=\"_parent\"><img src=\"https://colab.research.google.com/assets/colab-badge.svg\" alt=\"Open In Colab\"/></a>"
      ]
    },
    {
      "cell_type": "code",
      "execution_count": 3,
      "metadata": {
        "id": "N6Wf623hO8fQ"
      },
      "outputs": [],
      "source": [
        "import numpy as np\n",
        "from sklearn.preprocessing import Binarizer"
      ]
    },
    {
      "cell_type": "code",
      "source": [
        "df = np.array(\n",
        "    [\n",
        "        [1],[2],[3],[4],[5],[6]\n",
        "    ]\n",
        ")"
      ],
      "metadata": {
        "id": "7J_PqL2rQqHn"
      },
      "execution_count": 5,
      "outputs": []
    },
    {
      "cell_type": "code",
      "source": [
        "binarizer = Binarizer(threshold=3)"
      ],
      "metadata": {
        "id": "G8u0XdPsQ7zV"
      },
      "execution_count": 6,
      "outputs": []
    },
    {
      "cell_type": "code",
      "source": [
        "binary_data = binarizer.fit_transform(df)"
      ],
      "metadata": {
        "id": "mqd7lgeRRL_v"
      },
      "execution_count": 7,
      "outputs": []
    },
    {
      "cell_type": "code",
      "source": [
        "binary_data"
      ],
      "metadata": {
        "colab": {
          "base_uri": "https://localhost:8080/"
        },
        "id": "pFGkcbofROw0",
        "outputId": "d01a1b33-3e91-4c70-f74f-c7fcad8b0817"
      },
      "execution_count": 8,
      "outputs": [
        {
          "output_type": "execute_result",
          "data": {
            "text/plain": [
              "array([[0],\n",
              "       [0],\n",
              "       [0],\n",
              "       [1],\n",
              "       [1],\n",
              "       [1]])"
            ]
          },
          "metadata": {},
          "execution_count": 8
        }
      ]
    },
    {
      "cell_type": "code",
      "source": [],
      "metadata": {
        "id": "1oFR4JPtRQ-t"
      },
      "execution_count": null,
      "outputs": []
    }
  ]
}