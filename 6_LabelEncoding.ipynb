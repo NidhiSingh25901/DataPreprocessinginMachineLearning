{
  "nbformat": 4,
  "nbformat_minor": 0,
  "metadata": {
    "colab": {
      "provenance": [],
      "authorship_tag": "ABX9TyO7N/bICGVJBS8xhE9T/KvO",
      "include_colab_link": true
    },
    "kernelspec": {
      "name": "python3",
      "display_name": "Python 3"
    },
    "language_info": {
      "name": "python"
    }
  },
  "cells": [
    {
      "cell_type": "markdown",
      "metadata": {
        "id": "view-in-github",
        "colab_type": "text"
      },
      "source": [
        "<a href=\"https://colab.research.google.com/github/NidhiSingh25901/DataPreprocessinginMachineLearning/blob/main/6_LabelEncoding.ipynb\" target=\"_parent\"><img src=\"https://colab.research.google.com/assets/colab-badge.svg\" alt=\"Open In Colab\"/></a>"
      ]
    },
    {
      "cell_type": "code",
      "execution_count": 1,
      "metadata": {
        "id": "kSCUJ8GdEXEa"
      },
      "outputs": [],
      "source": [
        "from sklearn.preprocessing import OrdinalEncoder\n",
        "import pandas as pd\n",
        "\n",
        "df = pd.DataFrame({\n",
        "    'Name': ['Alice','Bob','Charlie','Diana','Eve'],\n",
        "    'Gender': ['Female','Male','Male','Female','Female'],\n",
        "    'Size': ['Small','Medium','Large','Medium','Small'],\n",
        "    'City': ['New York','Los Angeles','New York','San Francisco','Los Angeles']\n",
        "})\n",
        "\n",
        "size_order = [['Small','Medium','Large']]\n",
        "encoder = OrdinalEncoder(categories=size_order)\n",
        "df['Size'] = encoder.fit_transform(df[['Size']])\n"
      ]
    },
    {
      "cell_type": "code",
      "source": [
        "print(df)"
      ],
      "metadata": {
        "colab": {
          "base_uri": "https://localhost:8080/"
        },
        "id": "wnKmO-e8EmMv",
        "outputId": "8223c722-c731-4a0a-9c09-3eab76f65e52"
      },
      "execution_count": 2,
      "outputs": [
        {
          "output_type": "stream",
          "name": "stdout",
          "text": [
            "      Name  Gender  Size           City\n",
            "0    Alice  Female   0.0       New York\n",
            "1      Bob    Male   1.0    Los Angeles\n",
            "2  Charlie    Male   2.0       New York\n",
            "3    Diana  Female   1.0  San Francisco\n",
            "4      Eve  Female   0.0    Los Angeles\n"
          ]
        }
      ]
    },
    {
      "cell_type": "code",
      "source": [],
      "metadata": {
        "id": "1uigs_20Enxl"
      },
      "execution_count": null,
      "outputs": []
    }
  ]
}